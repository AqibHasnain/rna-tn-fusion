{
 "cells": [
  {
   "cell_type": "code",
   "execution_count": 62,
   "metadata": {
    "scrolled": true
   },
   "outputs": [],
   "source": [
    "import os.path as osp\n",
    "\n",
    "import torch\n",
    "import torch.nn.functional as F\n",
    "\n",
    "from torch_geometric.data import Data\n",
    "from torch_geometric.datasets import Planetoid\n",
    "from torch_geometric.nn import SGConv"
   ]
  },
  {
   "cell_type": "code",
   "execution_count": 52,
   "metadata": {},
   "outputs": [],
   "source": [
    "dataset = 'Cora'\n",
    "path = '/Users/aqib/desktop/bccl/rna_tn_fusion'"
   ]
  },
  {
   "cell_type": "code",
   "execution_count": 53,
   "metadata": {},
   "outputs": [
    {
     "data": {
      "text/plain": [
       "(1, 7, 1433)"
      ]
     },
     "execution_count": 53,
     "metadata": {},
     "output_type": "execute_result"
    }
   ],
   "source": [
    "dataset = Planetoid(path, dataset)\n",
    "data = dataset[0]\n",
    "len(dataset), dataset.num_classes, dataset.num_node_features"
   ]
  },
  {
   "cell_type": "code",
   "execution_count": 61,
   "metadata": {},
   "outputs": [
    {
     "data": {
      "text/plain": [
       "Data(x=[2708, 1433], edge_index=[2, 10556], y=[2708], train_mask=[2708], val_mask=[2708], test_mask=[2708])"
      ]
     },
     "execution_count": 61,
     "metadata": {},
     "output_type": "execute_result"
    }
   ],
   "source": [
    "data"
   ]
  },
  {
   "cell_type": "code",
   "execution_count": 55,
   "metadata": {},
   "outputs": [
    {
     "data": {
      "text/plain": [
       "(True, 140, 500, 1000)"
      ]
     },
     "execution_count": 55,
     "metadata": {},
     "output_type": "execute_result"
    }
   ],
   "source": [
    "data.is_undirected(), data.train_mask.sum().item(), data.val_mask.sum().item(), data.test_mask.sum().item()"
   ]
  },
  {
   "cell_type": "code",
   "execution_count": 59,
   "metadata": {},
   "outputs": [
    {
     "data": {
      "text/plain": [
       "tensor([[   0,    0,    0,  ..., 2707, 2707, 2707],\n",
       "        [ 633, 1862, 2582,  ...,  598, 1473, 2706]])"
      ]
     },
     "execution_count": 59,
     "metadata": {},
     "output_type": "execute_result"
    }
   ],
   "source": [
    "data.edge_index"
   ]
  },
  {
   "cell_type": "code",
   "execution_count": 23,
   "metadata": {},
   "outputs": [],
   "source": [
    "class Net(torch.nn.Module):\n",
    "    def __init__(self):\n",
    "        super().__init__()\n",
    "        self.conv1 = SGConv(dataset.num_features, dataset.num_classes, K=2,\n",
    "                            cached=True)\n",
    "\n",
    "    def forward(self):\n",
    "        x, edge_index = data.x, data.edge_index\n",
    "        x = self.conv1(x, edge_index)\n",
    "        return F.log_softmax(x, dim=1)"
   ]
  },
  {
   "cell_type": "code",
   "execution_count": 24,
   "metadata": {},
   "outputs": [],
   "source": [
    "device = torch.device('cuda' if torch.cuda.is_available() else 'cpu')\n",
    "model, data = Net().to(device), data.to(device)\n",
    "optimizer = torch.optim.Adam(model.parameters(), lr=0.2, weight_decay=0.005)"
   ]
  },
  {
   "cell_type": "code",
   "execution_count": 29,
   "metadata": {},
   "outputs": [],
   "source": [
    "def train():\n",
    "    model.train()\n",
    "    optimizer.zero_grad()\n",
    "    F.nll_loss(model()[data.train_mask], data.y[data.train_mask]).backward()\n",
    "    optimizer.step()"
   ]
  },
  {
   "cell_type": "code",
   "execution_count": 35,
   "metadata": {},
   "outputs": [],
   "source": [
    "def test():\n",
    "    model.eval()\n",
    "    logits, accs = model(), []\n",
    "    for _, mask in data('train_mask', 'val_mask', 'test_mask'):\n",
    "        pred = logits[mask].max(1)[1]\n",
    "        acc = pred.eq(data.y[mask]).sum().item() / mask.sum().item()\n",
    "        accs.append(acc)\n",
    "    return accs"
   ]
  },
  {
   "cell_type": "code",
   "execution_count": 39,
   "metadata": {
    "scrolled": true
   },
   "outputs": [
    {
     "name": "stdout",
     "output_type": "stream",
     "text": [
      "Epoch: 001, Train: 0.9643, Val: 0.7200, Test: 0.7460\n",
      "Epoch: 002, Train: 0.9857, Val: 0.7700, Test: 0.7810\n",
      "Epoch: 003, Train: 0.9929, Val: 0.7780, Test: 0.7840\n",
      "Epoch: 004, Train: 0.9929, Val: 0.7780, Test: 0.7840\n",
      "Epoch: 005, Train: 0.9929, Val: 0.7780, Test: 0.7840\n",
      "Epoch: 006, Train: 1.0000, Val: 0.7780, Test: 0.7840\n",
      "Epoch: 007, Train: 1.0000, Val: 0.7780, Test: 0.7840\n",
      "Epoch: 008, Train: 1.0000, Val: 0.7780, Test: 0.7840\n",
      "Epoch: 009, Train: 0.9929, Val: 0.7780, Test: 0.7840\n",
      "Epoch: 010, Train: 0.9929, Val: 0.7780, Test: 0.7840\n",
      "Epoch: 011, Train: 0.9929, Val: 0.7780, Test: 0.7840\n",
      "Epoch: 012, Train: 0.9929, Val: 0.7780, Test: 0.7840\n",
      "Epoch: 013, Train: 0.9929, Val: 0.7780, Test: 0.7840\n",
      "Epoch: 014, Train: 1.0000, Val: 0.7820, Test: 0.8170\n",
      "Epoch: 015, Train: 1.0000, Val: 0.7820, Test: 0.8170\n",
      "Epoch: 016, Train: 1.0000, Val: 0.7820, Test: 0.8170\n",
      "Epoch: 017, Train: 1.0000, Val: 0.7820, Test: 0.8170\n",
      "Epoch: 018, Train: 1.0000, Val: 0.7820, Test: 0.8170\n",
      "Epoch: 019, Train: 1.0000, Val: 0.7860, Test: 0.8180\n",
      "Epoch: 020, Train: 0.9929, Val: 0.7860, Test: 0.8180\n",
      "Epoch: 021, Train: 0.9929, Val: 0.7860, Test: 0.8180\n",
      "Epoch: 022, Train: 0.9929, Val: 0.7860, Test: 0.8180\n",
      "Epoch: 023, Train: 0.9929, Val: 0.7860, Test: 0.8180\n",
      "Epoch: 024, Train: 1.0000, Val: 0.7860, Test: 0.8180\n",
      "Epoch: 025, Train: 1.0000, Val: 0.7860, Test: 0.8180\n",
      "Epoch: 026, Train: 1.0000, Val: 0.7860, Test: 0.8180\n",
      "Epoch: 027, Train: 1.0000, Val: 0.7860, Test: 0.8180\n",
      "Epoch: 028, Train: 1.0000, Val: 0.7860, Test: 0.8180\n",
      "Epoch: 029, Train: 0.9929, Val: 0.7860, Test: 0.8180\n",
      "Epoch: 030, Train: 0.9929, Val: 0.7860, Test: 0.8180\n",
      "Epoch: 031, Train: 0.9929, Val: 0.7860, Test: 0.8180\n",
      "Epoch: 032, Train: 0.9929, Val: 0.7860, Test: 0.8180\n",
      "Epoch: 033, Train: 0.9929, Val: 0.7860, Test: 0.8180\n",
      "Epoch: 034, Train: 0.9929, Val: 0.7880, Test: 0.8160\n",
      "Epoch: 035, Train: 1.0000, Val: 0.7880, Test: 0.8160\n",
      "Epoch: 036, Train: 1.0000, Val: 0.7880, Test: 0.8160\n",
      "Epoch: 037, Train: 0.9929, Val: 0.7900, Test: 0.8190\n",
      "Epoch: 038, Train: 0.9929, Val: 0.7900, Test: 0.8190\n",
      "Epoch: 039, Train: 0.9929, Val: 0.7900, Test: 0.8190\n",
      "Epoch: 040, Train: 0.9929, Val: 0.7900, Test: 0.8190\n",
      "Epoch: 041, Train: 1.0000, Val: 0.7900, Test: 0.8190\n",
      "Epoch: 042, Train: 1.0000, Val: 0.7900, Test: 0.8190\n",
      "Epoch: 043, Train: 0.9929, Val: 0.7900, Test: 0.8190\n",
      "Epoch: 044, Train: 0.9929, Val: 0.7900, Test: 0.8190\n",
      "Epoch: 045, Train: 1.0000, Val: 0.7900, Test: 0.8190\n",
      "Epoch: 046, Train: 1.0000, Val: 0.7900, Test: 0.8190\n",
      "Epoch: 047, Train: 0.9929, Val: 0.7900, Test: 0.8190\n",
      "Epoch: 048, Train: 0.9929, Val: 0.7900, Test: 0.8190\n",
      "Epoch: 049, Train: 0.9929, Val: 0.7900, Test: 0.8190\n",
      "Epoch: 050, Train: 1.0000, Val: 0.7900, Test: 0.8190\n",
      "Epoch: 051, Train: 1.0000, Val: 0.7900, Test: 0.8190\n",
      "Epoch: 052, Train: 0.9929, Val: 0.7900, Test: 0.8190\n",
      "Epoch: 053, Train: 0.9929, Val: 0.7900, Test: 0.8190\n",
      "Epoch: 054, Train: 0.9929, Val: 0.7900, Test: 0.8190\n",
      "Epoch: 055, Train: 0.9929, Val: 0.7900, Test: 0.8190\n",
      "Epoch: 056, Train: 0.9929, Val: 0.7900, Test: 0.8190\n",
      "Epoch: 057, Train: 0.9929, Val: 0.7900, Test: 0.8190\n",
      "Epoch: 058, Train: 0.9929, Val: 0.7900, Test: 0.8190\n",
      "Epoch: 059, Train: 1.0000, Val: 0.7900, Test: 0.8190\n",
      "Epoch: 060, Train: 0.9929, Val: 0.7900, Test: 0.8190\n",
      "Epoch: 061, Train: 0.9929, Val: 0.7900, Test: 0.8190\n",
      "Epoch: 062, Train: 0.9929, Val: 0.7900, Test: 0.8190\n",
      "Epoch: 063, Train: 0.9929, Val: 0.7900, Test: 0.8190\n",
      "Epoch: 064, Train: 0.9929, Val: 0.7900, Test: 0.8190\n",
      "Epoch: 065, Train: 0.9929, Val: 0.7900, Test: 0.8190\n",
      "Epoch: 066, Train: 0.9929, Val: 0.7900, Test: 0.8190\n",
      "Epoch: 067, Train: 0.9929, Val: 0.7900, Test: 0.8190\n",
      "Epoch: 068, Train: 0.9929, Val: 0.7900, Test: 0.8190\n",
      "Epoch: 069, Train: 0.9929, Val: 0.7900, Test: 0.8190\n",
      "Epoch: 070, Train: 0.9929, Val: 0.7900, Test: 0.8190\n",
      "Epoch: 071, Train: 0.9929, Val: 0.7900, Test: 0.8190\n",
      "Epoch: 072, Train: 0.9929, Val: 0.7900, Test: 0.8190\n",
      "Epoch: 073, Train: 0.9929, Val: 0.7900, Test: 0.8190\n",
      "Epoch: 074, Train: 0.9929, Val: 0.7900, Test: 0.8190\n",
      "Epoch: 075, Train: 0.9929, Val: 0.7900, Test: 0.8190\n",
      "Epoch: 076, Train: 0.9929, Val: 0.7900, Test: 0.8190\n",
      "Epoch: 077, Train: 0.9929, Val: 0.7900, Test: 0.8190\n",
      "Epoch: 078, Train: 0.9929, Val: 0.7900, Test: 0.8190\n",
      "Epoch: 079, Train: 0.9929, Val: 0.7900, Test: 0.8190\n",
      "Epoch: 080, Train: 0.9929, Val: 0.7900, Test: 0.8190\n",
      "Epoch: 081, Train: 0.9929, Val: 0.7900, Test: 0.8190\n",
      "Epoch: 082, Train: 0.9929, Val: 0.7900, Test: 0.8190\n",
      "Epoch: 083, Train: 0.9929, Val: 0.7900, Test: 0.8190\n",
      "Epoch: 084, Train: 0.9929, Val: 0.7900, Test: 0.8190\n",
      "Epoch: 085, Train: 0.9929, Val: 0.7900, Test: 0.8190\n",
      "Epoch: 086, Train: 0.9929, Val: 0.7900, Test: 0.8190\n",
      "Epoch: 087, Train: 0.9929, Val: 0.7900, Test: 0.8190\n",
      "Epoch: 088, Train: 0.9929, Val: 0.7900, Test: 0.8190\n",
      "Epoch: 089, Train: 0.9929, Val: 0.7900, Test: 0.8190\n",
      "Epoch: 090, Train: 0.9929, Val: 0.7900, Test: 0.8190\n",
      "Epoch: 091, Train: 0.9929, Val: 0.7900, Test: 0.8190\n",
      "Epoch: 092, Train: 0.9929, Val: 0.7900, Test: 0.8190\n",
      "Epoch: 093, Train: 0.9929, Val: 0.7900, Test: 0.8190\n",
      "Epoch: 094, Train: 0.9929, Val: 0.7900, Test: 0.8190\n",
      "Epoch: 095, Train: 0.9929, Val: 0.7900, Test: 0.8190\n",
      "Epoch: 096, Train: 0.9929, Val: 0.7900, Test: 0.8190\n",
      "Epoch: 097, Train: 0.9929, Val: 0.7900, Test: 0.8190\n",
      "Epoch: 098, Train: 0.9929, Val: 0.7900, Test: 0.8190\n",
      "Epoch: 099, Train: 0.9929, Val: 0.7900, Test: 0.8190\n",
      "Epoch: 100, Train: 0.9929, Val: 0.7900, Test: 0.8190\n"
     ]
    }
   ],
   "source": [
    "best_val_acc = test_acc = 0\n",
    "for epoch in range(1, 101):\n",
    "    train()\n",
    "    train_acc, val_acc, tmp_test_acc = test()\n",
    "    if val_acc > best_val_acc:\n",
    "        best_val_acc = val_acc\n",
    "        test_acc = tmp_test_acc\n",
    "    print(f'Epoch: {epoch:03d}, Train: {train_acc:.4f}, '\n",
    "          f'Val: {best_val_acc:.4f}, Test: {test_acc:.4f}')"
   ]
  },
  {
   "cell_type": "code",
   "execution_count": null,
   "metadata": {},
   "outputs": [],
   "source": []
  },
  {
   "cell_type": "code",
   "execution_count": null,
   "metadata": {},
   "outputs": [],
   "source": []
  },
  {
   "cell_type": "code",
   "execution_count": null,
   "metadata": {},
   "outputs": [],
   "source": []
  },
  {
   "cell_type": "code",
   "execution_count": null,
   "metadata": {},
   "outputs": [],
   "source": []
  },
  {
   "cell_type": "code",
   "execution_count": null,
   "metadata": {},
   "outputs": [],
   "source": []
  },
  {
   "cell_type": "code",
   "execution_count": null,
   "metadata": {},
   "outputs": [],
   "source": []
  },
  {
   "cell_type": "code",
   "execution_count": null,
   "metadata": {},
   "outputs": [],
   "source": []
  }
 ],
 "metadata": {
  "kernelspec": {
   "display_name": "Python 3",
   "language": "python",
   "name": "python3"
  },
  "language_info": {
   "codemirror_mode": {
    "name": "ipython",
    "version": 3
   },
   "file_extension": ".py",
   "mimetype": "text/x-python",
   "name": "python",
   "nbconvert_exporter": "python",
   "pygments_lexer": "ipython3",
   "version": "3.8.15"
  }
 },
 "nbformat": 4,
 "nbformat_minor": 4
}
